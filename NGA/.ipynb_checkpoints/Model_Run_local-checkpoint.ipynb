{
 "cells": [
  {
   "cell_type": "code",
   "execution_count": null,
   "id": "50e8fc4a-13d7-4727-afca-1b3babbcd092",
   "metadata": {},
   "outputs": [],
   "source": [
    "# -*- coding: utf-8 -*-\n",
    "\"\"\"\n",
    "Created on Wed Feb 07 15:36:08 2024\n",
    "\n",
    "@author: baioc\n",
    "\"\"\"\n",
    "\n",
    "import yaml\n",
    "import calliope\n",
    "import time\n",
    "\n",
    "try:\n",
    "    calliope.set_log_level('INFO')\n",
    "except:\n",
    "    calliope.set_log_verbosity('Error')"
   ]
  },
  {
   "cell_type": "markdown",
   "id": "0964a964-04e0-4e66-bbae-f1d2842c693e",
   "metadata": {},
   "source": [
    "INPUT CAPACITY AND SHARE VALUES:"
   ]
  },
  {
   "cell_type": "code",
   "execution_count": null,
   "id": "e17fc496-8e3e-4cd2-8377-344444862d55",
   "metadata": {},
   "outputs": [],
   "source": [
    "#%% INPUT DATA\n",
    "\n",
    "#cumulative capacity of additional wind and solar technologie (in MW)\n",
    "capacity= list(range(0, 25001, 2500))\n",
    "\n",
    "#share of solar capacity over overall added capacity\n",
    "share=[0, 0.1, 0.2, 0.3, 0.4,0.5, 0.6, 0.7, 0.8, 0.9, 1] \n",
    "\n",
    "#i.e for capacity: 1000MW and share: 0.5 500MW of solar and 500MW of Wind will be added to the system"
   ]
  },
  {
   "cell_type": "markdown",
   "id": "0be02449-6da3-4070-8b10-a367a8840f1d",
   "metadata": {},
   "source": [
    "SELECT INTEGRATION STRATEGIES:\n",
    "\n",
    "4 integration strategies are considered\n",
    "\n",
    "Renewables Only (RO): only rewables are added\n",
    "PHES: add renewables and PHES\n",
    "Transmission expansion (TE) : add transmission expansion\n",
    "PHES and transmissio expansio (PHES and TE) : add PHES and transmission expansion\n",
    "\n",
    "NB model runs in operation\n"
   ]
  },
  {
   "cell_type": "code",
   "execution_count": null,
   "id": "e00a8d10-3162-4168-9d73-e17c3f915bac",
   "metadata": {},
   "outputs": [],
   "source": [
    "#%% INTEGRATION STRATEGY SELECTION AND DEFINITION\n",
    "###### choose integration strategies to investigate #############\n",
    "                                                                #\n",
    "integration_strategies = ['RO', 'TE', 'PHES','PHES_TE' ]        #\n",
    "                                                                #                                      \n",
    "#################################################################\n",
    "\n",
    "# data input for integration strategies:\n",
    "# NB PHES capacity corresponds to maximum PHES plants available in the region from https://re100.eng.anu.edu.au/global/\n",
    "\n",
    "strategy_definition = {\n",
    "    'RO': {'model_file': 'model_transmission.yaml', 'PHES_cap': 0, 'PHES_en': 0},\n",
    "    'TE': {'model_file': 'model_transmission_exp.yaml', 'PHES_cap': 0, 'PHES_en': 0},\n",
    "    'PHES': {'model_file': 'model_transmission.yaml', 'PHES_cap': 600000000, 'PHES_en': 3600000000},       #PHES capacity and energy in kW\n",
    "    'PHES_TE': {'model_file': 'model_transmission_exp.yaml', 'PHES_cap': 600000000, 'PHES_en': 3600000000} #PHES capacity and energy in kW\n",
    "}\n"
   ]
  },
  {
   "cell_type": "markdown",
   "id": "2773ad2c-9d24-4180-a0d8-58f70721d057",
   "metadata": {},
   "source": [
    "MODELS RUN:"
   ]
  },
  {
   "cell_type": "code",
   "execution_count": null,
   "id": "c7bd786c-8750-4943-94b8-379edc3e591a",
   "metadata": {},
   "outputs": [],
   "source": [
    "start_time = time.time()\n",
    "\n",
    "for strategy in integration_strategies:\n",
    "    # Check if the strategy is valid\n",
    "    if strategy not in strategy_definition:\n",
    "        raise NameError(\"Undefined strategy\") \n",
    "        break\n",
    "    \n",
    "    # Access the values from the dictionary based on the strategy\n",
    "    model_file = strategy_definition[strategy]['model_file']\n",
    "    PHES_cap = strategy_definition[strategy]['PHES_cap']\n",
    "    PHES_en = strategy_definition[strategy]['PHES_en']\n",
    "\n",
    "    for cap in capacity:\n",
    "        for sh in share:\n",
    "            \n",
    "            cap_kW = cap * 1e3\n",
    "            \n",
    "            Solar_cap = sh * cap_kW\n",
    "            \n",
    "            Wind_cap = cap_kW - Solar_cap\n",
    "            \n",
    "            with open('Model_config/Location_Constraints.yaml', 'r') as file:\n",
    "                Location_Constraints = yaml.load(file, Loader=yaml.FullLoader)\n",
    "            \n",
    "            Location_Constraints['locations']['NGA_E']['techs']['PV_added']['constraints']['energy_cap_equals']=Solar_cap\n",
    "            Location_Constraints['locations']['NGA_E']['techs']['Wind_added']['constraints']['energy_cap_equals']=Wind_cap\n",
    "            Location_Constraints['locations']['NGA_E']['techs']['PHES']['constraints']['energy_cap_equals']=PHES_cap\n",
    "            Location_Constraints['locations']['NGA_E']['techs']['PHES']['constraints']['storage_cap_equals']=PHES_en\n",
    "            \n",
    "            with open('Model_config/Location_Constraints_new.yaml', 'w') as outfile:\n",
    "                yaml.dump(Location_Constraints, outfile, default_flow_style=False)\n",
    "                \n",
    "            model = calliope.Model(model_file)\n",
    "           \n",
    "            model.run()\n",
    "    \n",
    "            Solar_sh = int(sh*100)\n",
    "            Wind_sh = 100 - Solar_sh\n",
    "            name_cap= int(cap)\n",
    "             \n",
    "            #give name to results file\n",
    "            \n",
    "            filename= f'Added_renewables-{name_cap}MW'\n",
    "            foldername= f'{Solar_sh}%Solar_{Wind_sh}%Wind'\n",
    "    \n",
    "            \n",
    "            model.to_csv(f'Results/{strategy}/{foldername}/{filename}')    \n",
    "            \n",
    "\n",
    "end_time = time.time()\n",
    "elapsed_time = end_time - start_time\n",
    "print(\"Elapsed time:\", elapsed_time, \"seconds\")\n"
   ]
  },
  {
   "cell_type": "code",
   "execution_count": null,
   "id": "d45a0254-8c28-46bc-8e0a-8b8ebbe26d57",
   "metadata": {},
   "outputs": [],
   "source": []
  }
 ],
 "metadata": {
  "kernelspec": {
   "display_name": "Python 3 (ipykernel)",
   "language": "python",
   "name": "python3"
  },
  "language_info": {
   "codemirror_mode": {
    "name": "ipython",
    "version": 3
   },
   "file_extension": ".py",
   "mimetype": "text/x-python",
   "name": "python",
   "nbconvert_exporter": "python",
   "pygments_lexer": "ipython3",
   "version": "3.8.18"
  }
 },
 "nbformat": 4,
 "nbformat_minor": 5
}
